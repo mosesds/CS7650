{
  "cells": [
    {
      "cell_type": "markdown",
      "metadata": {
        "id": "view-in-github",
        "colab_type": "text"
      },
      "source": [
        "<a href=\"https://colab.research.google.com/github/mosesds/CS7650/blob/master/CS7650_Project_0.ipynb\" target=\"_parent\"><img src=\"https://colab.research.google.com/assets/colab-badge.svg\" alt=\"Open In Colab\"/></a>"
      ]
    },
    {
      "cell_type": "markdown",
      "metadata": {
        "id": "TTsQ9OXO2VaP"
      },
      "source": [
        "# Logistic Regression\n",
        "**CS 7650 \"Natural Language Processing\" - Project 0**  \n",
        "Georgia Tech, Fall 2022 (Instructor: Dr. Wei Xu; TAs: Chase Perry, Rahul Katre, Rucha Sathe, Xurui Zhang)\n",
        "\n",
        "In this assignment, we will walk you through the process of implementing logistic regression from scratch. You will also apply your implemented logistic regression model to a small dataset and predict whether a student will be admitted to a university. This dataset will allow you to visualize the data and debug more easily. You may find **[this documentation](http://socialmedia-class.org/slides/AndrewNg_ex2.pdf)** very helpful, though it is about how to implement logistic regression in Octave, other than Python.\n",
        "\n",
        "This assignment also serves as a programming preparation test. We will use [Numpy](https://numpy.org/doc/stable/user/quickstart.html) -- a popular Python package for scientific computing and implementing machine learning algorithms. It provides very good support for matrix and vector operations. You need to feel comfortable working with matrics, vectors, and tensors in order to complete all the programming projects in CS 7650. \n"
      ]
    },
    {
      "cell_type": "markdown",
      "metadata": {
        "id": "XNP5-cZT2VaS"
      },
      "source": [
        "<div class=\"alert alert-danger\">\n",
        "IMPORTANT: In this assignment, except Numpy and Matplotlib, no other external Python packages are allowed. Scipy package can be used in gradient checking, though, it is not allowed elsewhere. \n",
        "</div>"
      ]
    },
    {
      "cell_type": "markdown",
      "metadata": {
        "id": "kuD2jqIQ2VaT"
      },
      "source": [
        "## 0. Honor Code  [1 points]\n",
        "\n",
        "**Honor Code:** I hereby agree to abide the Georgia Tech's Academic Honor Code, promise that the submitted assignment is my own work, and understand that my code is subject to plagiarism test.\n",
        "\n",
        "**Signature**: *(double click on this block and type your name here)*"
      ]
    },
    {
      "cell_type": "markdown",
      "metadata": {
        "id": "tzWvVzWE2VaT"
      },
      "source": [
        "## 1. Importing Numpy and Matplotlib [Code provided - do not change]"
      ]
    },
    {
      "cell_type": "code",
      "execution_count": null,
      "metadata": {
        "id": "OqgO_teQ2VaT",
        "colab": {
          "base_uri": "https://localhost:8080/"
        },
        "outputId": "fce41442-b8b0-4484-a6e6-28786468f1a9"
      },
      "outputs": [
        {
          "output_type": "stream",
          "name": "stdout",
          "text": [
            "3.7.13 (default, Apr 24 2022, 01:04:09) \n",
            "[GCC 7.5.0]\n"
          ]
        }
      ],
      "source": [
        "import sys\n",
        "\n",
        "# Check what version of Python is running\n",
        "print (sys.version)"
      ]
    },
    {
      "cell_type": "markdown",
      "source": [
        "\n",
        "\n",
        "We will also import [Matplotlib](http://matplotlib.org/users/pyplot_tutorial.html), a Python package for data visualization.  "
      ],
      "metadata": {
        "id": "Thzad2fE3_Qe"
      }
    },
    {
      "cell_type": "code",
      "execution_count": null,
      "metadata": {
        "collapsed": true,
        "id": "hoU9Ks-12VaV"
      },
      "outputs": [],
      "source": [
        "# Run some setup code for this notebook. Don't modify anything in this cell.\n",
        "\n",
        "import random\n",
        "import numpy as np\n",
        "import matplotlib.pyplot as plt\n",
        "\n",
        "# This is a bit of magic to make matplotlib figures appear inline in the notebook\n",
        "# rather than in a new window.\n",
        "%matplotlib inline\n",
        "plt.rcParams['figure.figsize'] = (10.0, 8.0) # set default size of plots\n",
        "plt.rcParams['image.interpolation'] = 'nearest'\n",
        "plt.rcParams['image.cmap'] = 'gray'\n",
        "\n",
        "# reload external python modules;\n",
        "# http://stackoverflow.com/questions/1907993/autoreload-of-modules-in-ipython\n",
        "%load_ext autoreload\n",
        "%autoreload 2"
      ]
    },
    {
      "cell_type": "markdown",
      "metadata": {
        "id": "XIWI0v1f2VaW"
      },
      "source": [
        "## 2. Visualizing the Data  [Code provided - no need to change]\n",
        "\n",
        "The provided dataset contains applicants' scores on two exams and the admission decisons for 100 students. This dataset will allow us to visualize in a 2D figure and showcase how the logistic regression algorithm works more intuitively. "
      ]
    },
    {
      "cell_type": "code",
      "source": [
        "!wget https://raw.githubusercontent.com/cocoxu/CS7650_projects_fa2022/main/Project%200/p0_data.txt"
      ],
      "metadata": {
        "id": "jM-fvdKVbuEB",
        "colab": {
          "base_uri": "https://localhost:8080/"
        },
        "outputId": "2a551d62-6d96-427c-cf15-62b67c0bb099"
      },
      "execution_count": null,
      "outputs": [
        {
          "output_type": "stream",
          "name": "stdout",
          "text": [
            "--2022-08-21 20:30:30--  https://raw.githubusercontent.com/cocoxu/CS7650_projects_fa2022/main/Project%200/p0_data.txt\n",
            "Resolving raw.githubusercontent.com (raw.githubusercontent.com)... 185.199.111.133, 185.199.108.133, 185.199.109.133, ...\n",
            "Connecting to raw.githubusercontent.com (raw.githubusercontent.com)|185.199.111.133|:443... connected.\n",
            "HTTP request sent, awaiting response... 200 OK\n",
            "Length: 3775 (3.7K) [text/plain]\n",
            "Saving to: ‘p0_data.txt’\n",
            "\n",
            "\rp0_data.txt           0%[                    ]       0  --.-KB/s               \rp0_data.txt         100%[===================>]   3.69K  --.-KB/s    in 0s      \n",
            "\n",
            "2022-08-21 20:30:30 (42.5 MB/s) - ‘p0_data.txt’ saved [3775/3775]\n",
            "\n"
          ]
        }
      ]
    },
    {
      "cell_type": "code",
      "execution_count": null,
      "metadata": {
        "id": "Phba0r0n2VaX",
        "colab": {
          "base_uri": "https://localhost:8080/",
          "height": 533
        },
        "outputId": "a447fd45-b1d0-448a-b695-4d5cf1e82fc6"
      },
      "outputs": [
        {
          "output_type": "stream",
          "name": "stdout",
          "text": [
            "# of training examples =  100\n",
            "# of features =  2\n"
          ]
        },
        {
          "output_type": "display_data",
          "data": {
            "text/plain": [
              "<Figure size 720x576 with 1 Axes>"
            ],
            "image/png": "[encoded data removed]"
          },
          "metadata": {
            "needs_background": "light"
          }
        }
      ],
      "source": [
        "#load the dataset\n",
        "data = np.loadtxt('p0_data.txt', delimiter=',')\n",
        "\n",
        "train_X = data[:, 0:2]\n",
        "train_y = data[:, 2]\n",
        "\n",
        "# Get the number of training examples and the number of features\n",
        "m_samples, n_features = train_X.shape\n",
        "print (\"# of training examples = \", m_samples)\n",
        "print (\"# of features = \", n_features)\n",
        "\n",
        "pos = np.where(train_y == 1)\n",
        "neg = np.where(train_y == 0)\n",
        "plt.scatter(train_X[pos, 0], train_X[pos, 1], marker='o', c='b')\n",
        "plt.scatter(train_X[neg, 0], train_X[neg, 1], marker='x', c='r')\n",
        "plt.xlabel('Exam 1 score')\n",
        "plt.ylabel('Exam 2 score')\n",
        "plt.legend(['Admitted', 'Not Admitted'])\n",
        "plt.show()"
      ]
    },
    {
      "cell_type": "markdown",
      "metadata": {
        "id": "C3QgCRl72VaX"
      },
      "source": [
        "## 3. Cost Function [5 points]\n",
        "You're going to first implement the sigmoid function, then the cost function for (binary) logistic regression. \n",
        "\n",
        "The sigmoid function is defined as $sigmoid(\\mathbf{z}) = \\frac{1}{1+{e^{-\\mathbf{z}}}}$.\n",
        "\n",
        "Note that, you are asked to use the [Numpy](https://numpy.org/doc/stable/user/quickstart.html) package for vector and matrix operations in order to ensure the __efficiency of the code__. "
      ]
    },
    {
      "cell_type": "code",
      "execution_count": null,
      "metadata": {
        "id": "BYovthSs2VaY"
      },
      "outputs": [],
      "source": [
        "def sigmoid(z):\n",
        "    \"\"\" Sigmoid function \"\"\"\n",
        "    ###################################################################\n",
        "    # Compute the sigmoid function for the input here.                #\n",
        "    ###################################################################\n",
        "    \n",
        "    s = None\n",
        "    ### YOUR CODE HERE: be careful of the potential underflow or overflow here\n",
        "    \n",
        "\n",
        "\n",
        "    ### END YOUR CODE\n",
        "    \n",
        "    return s\n",
        "\n",
        "# Check your sigmoid implementation\n",
        "z = np.array([[1, 2], [-1, -2]])\n",
        "f = sigmoid(z)\n",
        "print (f)"
      ]
    },
    {
      "cell_type": "code",
      "execution_count": null,
      "metadata": {
        "id": "9BpwKV0D2VaY"
      },
      "outputs": [],
      "source": [
        "def cost_function(theta, X, y):\n",
        "    \"\"\" The cost function for logistic regression \"\"\"\n",
        "    #####################################################################################\n",
        "    # Compute the cost given the current parameter theta on the training data set (X, y)#\n",
        "    #####################################################################################\n",
        "     \n",
        "    cost = None\n",
        "    ### YOUR CODE HERE\n",
        "\n",
        "\n",
        "\n",
        "    ### END YOUR CODE\n",
        "    \n",
        "    return cost\n",
        "\n",
        "# Check your cost function implementation\n",
        "\n",
        "t_X = np.array([[1, 2], [-1, -2]])\n",
        "t_y = np.array([0, 1])\n",
        "t_theta1 = np.array([-10, 10])\n",
        "t_theta2 = np.array([10, -10])\n",
        "t_c1 = cost_function(t_theta1, t_X, t_y)\n",
        "t_c2 = cost_function(t_theta2, t_X, t_y)\n",
        "print (t_c1)\n",
        "print (t_c2)"
      ]
    },
    {
      "cell_type": "markdown",
      "metadata": {
        "id": "MHeCiPfq2VaZ"
      },
      "source": [
        "## 4. Gradient Computation [5 points]\n",
        "\n",
        "Implement the gradient computations for logistic regression. "
      ]
    },
    {
      "cell_type": "code",
      "execution_count": null,
      "metadata": {
        "id": "JztSBQ0O2VaZ"
      },
      "outputs": [],
      "source": [
        "def gradient_update(theta, X, y):\n",
        "    \"\"\" The gradient update for logistic regression\"\"\"\n",
        "    ###############################\n",
        "    # Compute the gradient update #\n",
        "    ###############################\n",
        "    \n",
        "    grad = None\n",
        "    ### YOUR CODE HERE\n",
        "\n",
        "\n",
        "\n",
        "    ### END YOUR CODE\n",
        "    \n",
        "    return grad\n",
        "\n",
        "# Check your gradient computation implementation\n",
        "t_X = np.array([[1, 2, 3], [-1, -2, -3]])\n",
        "t_y = np.array([0, 1])\n",
        "t_theta1 = np.array([-10, 10, 0])\n",
        "t_theta2 = np.array([10, -10, 0])\n",
        "t_g1 = gradient_update(t_theta1, t_X, t_y)\n",
        "t_g2 = gradient_update(t_theta2, t_X, t_y)\n",
        "print (t_g1)\n",
        "print (t_g2)"
      ]
    },
    {
      "cell_type": "markdown",
      "metadata": {
        "id": "HecqyZ-g2Vaa"
      },
      "source": [
        "## 5. Gradient Checking [Code provided. Bonus 5 points if implemented from scratch]\n",
        "You can use the code provided below to check the gradient of your logistic regression functions using [Scipy](https://docs.scipy.org/doc/scipy/tutorial/index.html) package. Alternatively, you can implement the gradient checking from scratch by yourself (bonus 5 points). If you attempt the bonus, your implementation should replicate the behavior Scipy's implementation. Note: Copying Scipy's implementation does not count.\n",
        "\n",
        "[Gradient checking](http://ufldl.stanford.edu/tutorial/supervised/DebuggingGradientChecking/) is an important technique for debugging the gradient computation. Logistic regression is a relatively simple algorithm where it is straightforward to derive and implement its cost function and gradient computation. For more complex models, the gradient computation can be notoriously difficulty to debug and get right. Sometimes a subtly buggy implementation will manage to learn something that can look surprisingly reasonable, while performing less well than a correct implementation. Thus, even with a buggy implementation, it may not at all be apparent that anything is amiss. "
      ]
    },
    {
      "cell_type": "code",
      "execution_count": null,
      "metadata": {
        "id": "HColGeMD2Vaa"
      },
      "outputs": [],
      "source": [
        "# Check your gradient computation implementation\n",
        "t_samples, t_features = 100, 10\n",
        "t_X = np.random.randn(t_samples, t_features)\n",
        "t_y = np.random.randint(2, size=t_samples) \n",
        "t_theta = np.random.randn(t_features)\n",
        "\n",
        "from scipy import optimize\n",
        "print('Output of check_grad: %s' % optimize.check_grad(cost_function, gradient_update, t_theta, t_X, t_y))"
      ]
    },
    {
      "cell_type": "markdown",
      "metadata": {
        "id": "Bkp7ZvtX2Vab"
      },
      "source": [
        "## 6. Gradient Descent  and Decision Boundary  [10 points]\n",
        "\n",
        "Implement the batch gradient descent algorithm for logistic regression. For every 'print_iterations' number of iterations, also visualize the decision boundary and observe how it changes during the training. Please print the change between **10-20** times to fully demonstrate the learned decision boundary, along with the allowing enough iterations for the method to converge. \n",
        "\n",
        "Please use the *domain* variable initialized at the end of the plotting code (on line 54 of the below block if line numbers are enabled) for the domain of the boundary when plotting. \n",
        "\n",
        "Note that, you will need to carefully choose the learning rate and the total number of iterations, especially given that the starter code does not include feature scaling (e.g., scale each feature by its maximum absolute value to convert feature value to [-1,1] range -- in order to make this homework simple and easier for you to write code to visualize. "
      ]
    },
    {
      "cell_type": "code",
      "execution_count": null,
      "metadata": {
        "scrolled": false,
        "id": "rpHJ26Oj2Vab"
      },
      "outputs": [],
      "source": [
        "def gradient_descent(theta, X, y, alpha, max_iterations, print_iterations):\n",
        "    \"\"\" Batch gradient descent algorithm \"\"\"\n",
        "    #################################################################\n",
        "    # Update the parameter 'theta' iteratively to minimize the cost #\n",
        "    # 'alpha' is learning rate.                                     # \n",
        "    # Also visualize the decision boundary during learning          #\n",
        "    #################################################################\n",
        " \n",
        "    #alpha *= m_samples\n",
        "    iteration = 0\n",
        "    \n",
        "    ### YOUR CODE HERE: \n",
        "    \n",
        "    \n",
        "        \n",
        "    ### END YOUR CODE\n",
        "    \n",
        "    \n",
        "    \n",
        "    while(iteration < max_iterations):\n",
        "        iteration += 1\n",
        "        \n",
        "        ### YOUR CODE HERE: simultaneous update of partial gradients\n",
        "    \n",
        "            \n",
        "    \n",
        "        ### END YOUR CODE\n",
        "\n",
        "        \n",
        "        # For first iteration and every print_iterations \n",
        "        if iteration % print_iterations == 0 or iteration == 1:\n",
        "            cost = 0\n",
        "            \n",
        "            ### YOUR CODE HERE: calculate the cost\n",
        "            ### IMPORTANT: The cost function is guaranteed to decrease after \n",
        "            ## every iteration of the gradient descent algorithm.    \n",
        "    \n",
        "    \n",
        "    \n",
        "            ### END YOUR CODE\n",
        "            \n",
        "            print (\"[ Iteration\", iteration, \"]\", \"cost =\", cost)\n",
        "            plt.rcParams['figure.figsize'] = (5, 4)\n",
        "            plt.xlim([20,110])\n",
        "            plt.ylim([20,110])\n",
        "            \n",
        "            pos = np.where(y == 1)\n",
        "            neg = np.where(y == 0)\n",
        "            \n",
        "            plt.scatter(X[pos, 0], X[pos, 1], marker='o', c='b')\n",
        "            plt.scatter(X[neg, 0], X[neg, 1], marker='x', c='r')\n",
        "            plt.xlabel('Exam 1 score')\n",
        "            plt.ylabel('Exam 2 score')\n",
        "            plt.legend(['Admitted', 'Not Admitted'])\n",
        "            domain = np.arange(10, 100, 0.1)\n",
        "            \n",
        "            \n",
        "            ### YOUR CODE HERE: plot the decision boundary using the domain \n",
        "\n",
        "        \n",
        "    \n",
        "            ### END YOUR CODE \n",
        "            \n",
        "            plt.show()\n",
        "               \n",
        "    return theta\n",
        "\n",
        "\n",
        "### YOUR CODE HERE: initialize the parameters 'theta' to random values; \n",
        "### And set up learning rate, number of max iterations, number of iterations for printing intermediate outputs\n",
        "    \n",
        "    \n",
        "initial_theta = None \n",
        "alpha_test = None\n",
        "max_iter = None\n",
        "print_iter = None\n",
        "\n",
        "    \n",
        "### END YOUR CODE\n",
        "\n",
        "\n",
        "learned_theta = gradient_descent(initial_theta, train_X, train_y, alpha_test, max_iter, print_iter)"
      ]
    },
    {
      "cell_type": "markdown",
      "metadata": {
        "id": "ViyLUhln2Vab"
      },
      "source": [
        "## 6. Predicting [5 points]\n",
        "Now that you learned the parameters of the model, you can use the model to predict whether a particular student will be admited. "
      ]
    },
    {
      "cell_type": "code",
      "execution_count": null,
      "metadata": {
        "id": "z1eYdSSz2Vae"
      },
      "outputs": [],
      "source": [
        "def predict(theta, X):\n",
        "    \"\"\" Predict label using learned logistic regression parameters \"\"\"\n",
        "    ###################################################################################################\n",
        "    # Predict a label of 0 or 1 using learned logistic regression parameters for dataset of N samples #\n",
        "    # Return the probabilities of X as a (1, N) array of floats                                       #\n",
        "    # Return the predicted_labels as a (1, N) array of 0 or 1 integers                                #\n",
        "    ###################################################################################################\n",
        "\n",
        "    ### YOUR CODE HERE: \n",
        "\n",
        "\n",
        "    \n",
        "    ### END YOUR CODE\n",
        "    \n",
        "    \n",
        "    ## convert an array of booleans 'predicted_labels' into an array of 0 or 1 integers\n",
        "    return probabilities, 1*predicted_labels \n",
        "\n",
        "# Check your predication function implementation\n",
        "t_X1 = np.array([[90, 90]])\n",
        "t_X2 = np.array([[50, 60]])\n",
        "t_X3 = np.array([[10, 50]])\n",
        "print (predict(learned_theta, t_X1))\n",
        "print (predict(learned_theta, t_X2))\n",
        "print (predict(learned_theta, t_X3))\n",
        "\n",
        "# Compute accuracy on the training dateset \n",
        "t_prob, t_label = predict(learned_theta, train_X)\n",
        "t_precision = t_label[np.where(t_label == train_y)].size / float(train_y.size) * 100\n",
        "print('Accuracy on the training set: %s%%' % round(t_precision,2))"
      ]
    },
    {
      "cell_type": "markdown",
      "metadata": {
        "id": "vWZfLMX12Vaf"
      },
      "source": [
        "## 7. Submit Your Homework\n",
        "This is the end. Congratulations!  \n",
        "\n",
        "Now, follow the steps below to submit your homework in [Gradescope](https://www.gradescope.com/courses/418978):\n",
        "\n",
        "1. rename this ipynb file to 'CS7650_p0_GTusername.ipynb'. Make sure all cells have been run. \n",
        "2. click on the menu 'File' --> 'Download' --> 'Download .py'.\n",
        "3. click on the menu 'File' --> 'Download' --> 'Download .ipynb'.\n",
        "4. Download the notebook as a .pdf document. Ensure the output from step 5. Gradient Descent and Decision Boundary is captured. This question cannot be graded if the output from this cell is not captured.\n",
        "5. Upload all 3 files to GradeScope. Double check the files start with 'CS7650_p0_*', capitalization matters.\n",
        "\n",
        "**NOTE**: If you experience issues when uploading to GradeScope and did not use Google Colab, we ask that you upload your notebook to Colab, re-run all cells, download the notebook and Python script, and re-upload them to GradeScope as students have reported issues in the past when using local Juypter Notebook instances.  "
      ]
    }
  ],
  "metadata": {
    "anaconda-cloud": {},
    "kernelspec": {
      "display_name": "Python 3",
      "language": "python",
      "name": "python3"
    },
    "language_info": {
      "codemirror_mode": {
        "name": "ipython",
        "version": 3
      },
      "file_extension": ".py",
      "mimetype": "text/x-python",
      "name": "python",
      "nbconvert_exporter": "python",
      "pygments_lexer": "ipython3",
      "version": "3.6.3"
    },
    "colab": {
      "name": "CS7650_Project_0.ipynb",
      "provenance": [],
      "collapsed_sections": [],
      "include_colab_link": true
    }
  },
  "nbformat": 4,
  "nbformat_minor": 0
}